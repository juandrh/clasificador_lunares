{
 "cells": [
  {
   "cell_type": "code",
   "execution_count": 3,
   "id": "9cd9f1c1",
   "metadata": {},
   "outputs": [],
   "source": [
    "import fastbook\n",
    "fastbook.setup_book()"
   ]
  },
  {
   "cell_type": "code",
   "execution_count": 4,
   "id": "953781a3",
   "metadata": {},
   "outputs": [],
   "source": [
    "from fastbook import *\n",
    "from fastai.vision.widgets import *"
   ]
  },
  {
   "cell_type": "code",
   "execution_count": 5,
   "id": "7d20ff99",
   "metadata": {},
   "outputs": [
    {
     "data": {
      "text/plain": [
       "(#1) [Path('export.pkl')]"
      ]
     },
     "execution_count": 5,
     "metadata": {},
     "output_type": "execute_result"
    }
   ],
   "source": [
    "path=Path()\n",
    "path.ls(file_exts='.pkl')"
   ]
  },
  {
   "cell_type": "code",
   "execution_count": 6,
   "id": "7e074359",
   "metadata": {},
   "outputs": [],
   "source": [
    "learn_inf=load_learner(path/'export.pkl')"
   ]
  },
  {
   "cell_type": "code",
   "execution_count": 9,
   "id": "7bed825e",
   "metadata": {},
   "outputs": [
    {
     "data": {
      "application/vnd.jupyter.widget-view+json": {
       "model_id": "17fb1691a4e44a88b6f7355709da2163",
       "version_major": 2,
       "version_minor": 0
      },
      "text/plain": [
       "FileUpload(value={}, description='Upload')"
      ]
     },
     "metadata": {},
     "output_type": "display_data"
    }
   ],
   "source": [
    "b_up=widgets.FileUpload()\n",
    "b_up"
   ]
  },
  {
   "cell_type": "code",
   "execution_count": 10,
   "id": "b381e6ab",
   "metadata": {},
   "outputs": [],
   "source": [
    "b_up = SimpleNamespace(data = ['images/grizzly.jpg'])"
   ]
  },
  {
   "cell_type": "code",
   "execution_count": 11,
   "id": "1b57bd0e",
   "metadata": {},
   "outputs": [],
   "source": [
    "img=PILImage.create(b_up.data[-1])"
   ]
  },
  {
   "cell_type": "code",
   "execution_count": 14,
   "id": "50dafc45",
   "metadata": {},
   "outputs": [
    {
     "data": {
      "application/vnd.jupyter.widget-view+json": {
       "model_id": "2826a0026bac42a7b1e1675d9796fc49",
       "version_major": 2,
       "version_minor": 0
      },
      "text/plain": [
       "Output()"
      ]
     },
     "metadata": {},
     "output_type": "display_data"
    }
   ],
   "source": [
    "o_pl=widgets.Output()\n",
    "o_pl.clear_output()\n",
    "with o_pl: display(img.to_thumb(128,128))\n",
    "o_pl"
   ]
  },
  {
   "cell_type": "code",
   "execution_count": 15,
   "id": "cbecee09",
   "metadata": {},
   "outputs": [
    {
     "data": {
      "application/vnd.jupyter.widget-view+json": {
       "model_id": "0a757f5b97dd41f4826a8a2697660270",
       "version_major": 2,
       "version_minor": 0
      },
      "text/plain": [
       "Button(description='Clasifica', style=ButtonStyle())"
      ]
     },
     "metadata": {},
     "output_type": "display_data"
    }
   ],
   "source": [
    "btn_run=widgets.Button(description='Clasifica')\n",
    "btn_run"
   ]
  },
  {
   "cell_type": "code",
   "execution_count": null,
   "id": "59188304",
   "metadata": {},
   "outputs": [],
   "source": [
    "label_pred=widgets.Label()"
   ]
  },
  {
   "cell_type": "code",
   "execution_count": 16,
   "id": "ff90f128",
   "metadata": {},
   "outputs": [],
   "source": [
    "def on_click_clas(change):\n",
    "    img=PILImage.create(b_up.data[-1])\n",
    "    o_pl.clear_output()\n",
    "    with o_pl: display(img.to_thumb(128,128))\n",
    "    pred,pred_inx,prob=learn_inf.predict(img)\n",
    "    label_pred.value=f'Prediccion: {pred}; probabilidad: {prob[pred_inx]:.04f}'\n",
    "btn_run.on_click(on_click_clas)"
   ]
  },
  {
   "cell_type": "code",
   "execution_count": 17,
   "id": "fe34d756",
   "metadata": {},
   "outputs": [],
   "source": [
    "b_up=widgets.FileUpload()\n"
   ]
  },
  {
   "cell_type": "code",
   "execution_count": 18,
   "id": "6ebcda85",
   "metadata": {},
   "outputs": [
    {
     "data": {
      "application/vnd.jupyter.widget-view+json": {
       "model_id": "ea01a3a4d62649a49874a9c7b4c02fd0",
       "version_major": 2,
       "version_minor": 0
      },
      "text/plain": [
       "VBox(children=(Label(value='Escoge tu perro'), FileUpload(value={}, description='Upload'), Button(description=…"
      ]
     },
     "metadata": {},
     "output_type": "display_data"
    },
    {
     "data": {
      "text/html": [],
      "text/plain": [
       "<IPython.core.display.HTML object>"
      ]
     },
     "metadata": {},
     "output_type": "display_data"
    }
   ],
   "source": [
    "VBox([widgets.Label('Escoge tu perro'),b_up,btn_run,o_pl,label_pred])"
   ]
  },
  {
   "cell_type": "code",
   "execution_count": null,
   "id": "0b1b68fd",
   "metadata": {},
   "outputs": [],
   "source": []
  }
 ],
 "metadata": {
  "kernelspec": {
   "display_name": "Python 3 (ipykernel)",
   "language": "python",
   "name": "python3"
  },
  "language_info": {
   "codemirror_mode": {
    "name": "ipython",
    "version": 3
   },
   "file_extension": ".py",
   "mimetype": "text/x-python",
   "name": "python",
   "nbconvert_exporter": "python",
   "pygments_lexer": "ipython3",
   "version": "3.8.10"
  }
 },
 "nbformat": 4,
 "nbformat_minor": 5
}
